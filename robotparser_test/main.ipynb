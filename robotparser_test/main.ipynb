{
 "cells": [
  {
   "cell_type": "code",
   "execution_count": 1,
   "metadata": {},
   "outputs": [],
   "source": [
    "from urllib.robotparser import RobotFileParser\n",
    "\n",
    "home_page_url = \"https://www.jumia.co.ke\"\n",
    "rp = RobotFileParser()\n",
    "rp.set_url(f\"{home_page_url}/robots.txt\")\n",
    "rp.read()"
   ]
  },
  {
   "cell_type": "code",
   "execution_count": 3,
   "metadata": {},
   "outputs": [],
   "source": [
    "rrate = rp.request_rate(\"*\")"
   ]
  },
  {
   "cell_type": "code",
   "execution_count": 11,
   "metadata": {},
   "outputs": [
    {
     "name": "stdout",
     "output_type": "stream",
     "text": [
      "rrate=None\n",
      "rp.crawl_delay('*')=None\n",
      "rp.request_rate('*')=None\n",
      "False\n",
      "False\n"
     ]
    }
   ],
   "source": [
    "print(f\"{rrate=}\")\n",
    "print(f\"{rp.crawl_delay('*')=}\")\n",
    "print(f\"{rp.request_rate('*')=}\")\n",
    "print(f\"{rp.can_fetch('*', f'{home_page_url}/catalog')}\")\n",
    "print(f\"{rp.can_fetch('*', f'{home_page_url}')}\")"
   ]
  }
 ],
 "metadata": {
  "kernelspec": {
   "display_name": "base1",
   "language": "python",
   "name": "python3"
  },
  "language_info": {
   "codemirror_mode": {
    "name": "ipython",
    "version": 3
   },
   "file_extension": ".py",
   "mimetype": "text/x-python",
   "name": "python",
   "nbconvert_exporter": "python",
   "pygments_lexer": "ipython3",
   "version": "3.10.14"
  }
 },
 "nbformat": 4,
 "nbformat_minor": 2
}
