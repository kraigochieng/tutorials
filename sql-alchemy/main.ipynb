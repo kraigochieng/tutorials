{
 "cells": [
  {
   "cell_type": "code",
   "execution_count": 1,
   "metadata": {},
   "outputs": [
    {
     "name": "stdout",
     "output_type": "stream",
     "text": [
      "Requirement already satisfied: sqlalchemy in /home/kraigochieng/miniconda3/envs/base1/lib/python3.10/site-packages (from -r requirements.txt (line 1)) (2.0.30)\n",
      "Requirement already satisfied: typing-extensions>=4.6.0 in /home/kraigochieng/miniconda3/envs/base1/lib/python3.10/site-packages (from sqlalchemy->-r requirements.txt (line 1)) (4.11.0)\n",
      "Requirement already satisfied: greenlet!=0.4.17 in /home/kraigochieng/.local/lib/python3.10/site-packages (from sqlalchemy->-r requirements.txt (line 1)) (2.0.2)\n",
      "Note: you may need to restart the kernel to use updated packages.\n"
     ]
    }
   ],
   "source": [
    "%pip install -r requirements.txt"
   ]
  },
  {
   "cell_type": "code",
   "execution_count": 2,
   "metadata": {},
   "outputs": [
    {
     "data": {
      "text/plain": [
       "'2.0.30'"
      ]
     },
     "execution_count": 2,
     "metadata": {},
     "output_type": "execute_result"
    }
   ],
   "source": [
    "import sqlalchemy\n",
    "sqlalchemy.__version__\n"
   ]
  },
  {
   "cell_type": "code",
   "execution_count": 3,
   "metadata": {},
   "outputs": [],
   "source": [
    "from sqlalchemy import create_engine\n",
    "engine = create_engine(\"sqlite+pysqlite:///:memory:\", echo=True)"
   ]
  },
  {
   "cell_type": "code",
   "execution_count": 4,
   "metadata": {},
   "outputs": [
    {
     "name": "stdout",
     "output_type": "stream",
     "text": [
      "2024-05-26 12:42:23,206 INFO sqlalchemy.engine.Engine BEGIN (implicit)\n",
      "2024-05-26 12:42:23,208 INFO sqlalchemy.engine.Engine select 'hello world'\n",
      "2024-05-26 12:42:23,210 INFO sqlalchemy.engine.Engine [generated in 0.00397s] ()\n",
      "[('hello world',)]\n",
      "2024-05-26 12:42:23,212 INFO sqlalchemy.engine.Engine ROLLBACK\n"
     ]
    }
   ],
   "source": [
    "from sqlalchemy import text\n",
    "with engine.connect() as conn:\n",
    "    result = conn.execute(text(\"select 'hello world'\"))\n",
    "    print(result.all())"
   ]
  },
  {
   "cell_type": "code",
   "execution_count": 5,
   "metadata": {},
   "outputs": [
    {
     "name": "stdout",
     "output_type": "stream",
     "text": [
      "2024-05-26 15:02:55,700 INFO sqlalchemy.engine.Engine BEGIN (implicit)\n",
      "2024-05-26 15:02:55,704 INFO sqlalchemy.engine.Engine \n",
      "                CREATE TABLE points (\n",
      "                    x int,\n",
      "                    y int\n",
      "                )     \n",
      "        \n",
      "2024-05-26 15:02:55,708 INFO sqlalchemy.engine.Engine [generated in 0.00775s] ()\n",
      "2024-05-26 15:02:55,713 INFO sqlalchemy.engine.Engine \n",
      "                INSERT INTO points (\n",
      "                    x,\n",
      "                    y\n",
      "                )\n",
      "                VALUES (\n",
      "                    ?,\n",
      "                    ?\n",
      "                )\n",
      "        \n",
      "2024-05-26 15:02:55,715 INFO sqlalchemy.engine.Engine [generated in 0.00190s] [(1, 2), (1, 2)]\n",
      "2024-05-26 15:02:55,720 INFO sqlalchemy.engine.Engine COMMIT\n"
     ]
    }
   ],
   "source": [
    "from sqlalchemy import text\n",
    "with engine.connect() as conn:\n",
    "    conn.execute(\n",
    "        text(\"\"\"\n",
    "                CREATE TABLE points (\n",
    "                    x int,\n",
    "                    y int\n",
    "                )     \n",
    "        \"\"\")\n",
    "    )\n",
    "    conn.execute(\n",
    "        text(\"\"\"\n",
    "                INSERT INTO points (\n",
    "                    x,\n",
    "                    y\n",
    "                )\n",
    "                VALUES (\n",
    "                    :x,\n",
    "                    :y\n",
    "                )\n",
    "        \"\"\"),\n",
    "        [\n",
    "            {\n",
    "                \"x\": 1,\n",
    "                \"y\": 2\n",
    "            },\n",
    "            {\n",
    "                \"x\": 1,\n",
    "                \"y\": 2\n",
    "            }\n",
    "        ]\n",
    "    )\n",
    "\n",
    "    conn.commit()"
   ]
  }
 ],
 "metadata": {
  "kernelspec": {
   "display_name": "base1",
   "language": "python",
   "name": "python3"
  },
  "language_info": {
   "codemirror_mode": {
    "name": "ipython",
    "version": 3
   },
   "file_extension": ".py",
   "mimetype": "text/x-python",
   "name": "python",
   "nbconvert_exporter": "python",
   "pygments_lexer": "ipython3",
   "version": "3.10.14"
  }
 },
 "nbformat": 4,
 "nbformat_minor": 2
}
