{
 "cells": [
  {
   "cell_type": "code",
   "execution_count": 121,
   "metadata": {},
   "outputs": [
    {
     "name": "stdout",
     "output_type": "stream",
     "text": [
      "Requirement already satisfied: selenium in /home/kraigochieng/miniconda3/envs/base1/lib/python3.10/site-packages (from -r requirements.txt (line 1)) (4.21.0)\n",
      "Requirement already satisfied: requests in /home/kraigochieng/miniconda3/envs/base1/lib/python3.10/site-packages (from -r requirements.txt (line 2)) (2.31.0)\n",
      "Requirement already satisfied: urllib3<3,>=1.26 in /home/kraigochieng/miniconda3/envs/base1/lib/python3.10/site-packages (from urllib3[socks]<3,>=1.26->selenium->-r requirements.txt (line 1)) (2.2.1)\n",
      "Requirement already satisfied: trio~=0.17 in /home/kraigochieng/miniconda3/envs/base1/lib/python3.10/site-packages (from selenium->-r requirements.txt (line 1)) (0.25.1)\n",
      "Requirement already satisfied: trio-websocket~=0.9 in /home/kraigochieng/miniconda3/envs/base1/lib/python3.10/site-packages (from selenium->-r requirements.txt (line 1)) (0.11.1)\n",
      "Requirement already satisfied: certifi>=2021.10.8 in /home/kraigochieng/miniconda3/envs/base1/lib/python3.10/site-packages (from selenium->-r requirements.txt (line 1)) (2024.2.2)\n",
      "Requirement already satisfied: typing_extensions>=4.9.0 in /home/kraigochieng/miniconda3/envs/base1/lib/python3.10/site-packages (from selenium->-r requirements.txt (line 1)) (4.11.0)\n",
      "Requirement already satisfied: charset-normalizer<4,>=2 in /home/kraigochieng/miniconda3/envs/base1/lib/python3.10/site-packages (from requests->-r requirements.txt (line 2)) (3.3.2)\n",
      "Requirement already satisfied: idna<4,>=2.5 in /home/kraigochieng/miniconda3/envs/base1/lib/python3.10/site-packages (from requests->-r requirements.txt (line 2)) (3.7)\n",
      "Requirement already satisfied: attrs>=23.2.0 in /home/kraigochieng/miniconda3/envs/base1/lib/python3.10/site-packages (from trio~=0.17->selenium->-r requirements.txt (line 1)) (23.2.0)\n",
      "Requirement already satisfied: sortedcontainers in /home/kraigochieng/miniconda3/envs/base1/lib/python3.10/site-packages (from trio~=0.17->selenium->-r requirements.txt (line 1)) (2.4.0)\n",
      "Requirement already satisfied: outcome in /home/kraigochieng/miniconda3/envs/base1/lib/python3.10/site-packages (from trio~=0.17->selenium->-r requirements.txt (line 1)) (1.3.0.post0)\n",
      "Requirement already satisfied: sniffio>=1.3.0 in /home/kraigochieng/miniconda3/envs/base1/lib/python3.10/site-packages (from trio~=0.17->selenium->-r requirements.txt (line 1)) (1.3.1)\n",
      "Requirement already satisfied: exceptiongroup in /home/kraigochieng/miniconda3/envs/base1/lib/python3.10/site-packages (from trio~=0.17->selenium->-r requirements.txt (line 1)) (1.2.1)\n",
      "Requirement already satisfied: wsproto>=0.14 in /home/kraigochieng/miniconda3/envs/base1/lib/python3.10/site-packages (from trio-websocket~=0.9->selenium->-r requirements.txt (line 1)) (1.2.0)\n",
      "Requirement already satisfied: pysocks!=1.5.7,<2.0,>=1.5.6 in /home/kraigochieng/miniconda3/envs/base1/lib/python3.10/site-packages (from urllib3[socks]<3,>=1.26->selenium->-r requirements.txt (line 1)) (1.7.1)\n",
      "Requirement already satisfied: h11<1,>=0.9.0 in /home/kraigochieng/miniconda3/envs/base1/lib/python3.10/site-packages (from wsproto>=0.14->trio-websocket~=0.9->selenium->-r requirements.txt (line 1)) (0.14.0)\n",
      "Note: you may need to restart the kernel to use updated packages.\n"
     ]
    }
   ],
   "source": [
    "%pip install -r requirements.txt"
   ]
  },
  {
   "cell_type": "code",
   "execution_count": 122,
   "metadata": {},
   "outputs": [],
   "source": [
    "from selenium import webdriver\n",
    "from selenium.webdriver.chrome.service import Service\n",
    "from selenium.webdriver.chrome.options import Options\n",
    "from selenium.webdriver.common.action_chains import ActionChains\n",
    "\n",
    "import os\n",
    "\n",
    "# Set up service\n",
    "chrome_driver_path = \"./chromedriver-linux64/chromedriver\"\n",
    "service = Service(executable_path=chrome_driver_path)\n",
    "\n",
    "# Set up download options\n",
    "chrome_options = Options()\n",
    "path_to_videos = os.path.join(os.getcwd(), \"videos\")\n",
    "chrome_options.add_experimental_option(\"prefs\", {\n",
    "    \"download.default_directory\": path_to_videos,\n",
    "    \"download.prompt_for_download\": False, # Disable download prompt\n",
    "    \"profile.default_content_setting_values.automatic_downloads\": 1,  # Allow multiple automatic downloads\n",
    "    \"download.directory_upgrade\": True,\n",
    "    \"safebrowsing.enabled\": True\n",
    "})\n",
    "\n",
    "# Set up web driver\n",
    "driver = webdriver.Chrome(service=service, options=chrome_options)\n",
    "\n",
    "# Set up actions\n",
    "actions = ActionChains(driver=driver)"
   ]
  },
  {
   "cell_type": "code",
   "execution_count": 123,
   "metadata": {},
   "outputs": [],
   "source": [
    "# Get page\n",
    "main_page_url = \"https://sample-videos.com/\"\n",
    "driver.get(main_page_url)"
   ]
  },
  {
   "cell_type": "code",
   "execution_count": 124,
   "metadata": {},
   "outputs": [
    {
     "name": "stdout",
     "output_type": "stream",
     "text": [
      "File 'big_buck_bunny_720p_1mb.mp4' downloaded successfully.\n",
      "File 'big_buck_bunny_480p_1mb.mp4' downloaded successfully.\n",
      "File 'big_buck_bunny_720p_2mb.mp4' downloaded successfully.\n",
      "File 'big_buck_bunny_480p_2mb.mp4' downloaded successfully.\n",
      "File 'big_buck_bunny_480p_5mb.mp4' downloaded successfully.\n",
      "File 'big_buck_bunny_720p_5mb.mp4' downloaded successfully.\n",
      "File 'big_buck_bunny_720p_10mb.mp4' downloaded successfully.\n",
      "File 'big_buck_bunny_480p_10mb.mp4' downloaded successfully.\n",
      "File 'big_buck_bunny_720p_20mb.mp4' downloaded successfully.\n",
      "File 'big_buck_bunny_720p_30mb.mp4' downloaded successfully.\n"
     ]
    }
   ],
   "source": [
    "from selenium.webdriver.common.by import By\n",
    "from selenium.webdriver.support.ui import WebDriverWait\n",
    "from selenium.webdriver.support import expected_conditions as EC\n",
    "from concurrent.futures import ThreadPoolExecutor\n",
    "import requests\n",
    "\n",
    "def download_file(url, target_folder):\n",
    "    try:\n",
    "        # Send a GET request to the URL\n",
    "        response = requests.get(url)\n",
    "        if response.status_code == 200:\n",
    "            # Extract the file name from the URL\n",
    "            file_name = url.split(\"/\")[-1]\n",
    "            # Write the content of the response to a file\n",
    "            with open(os.path.join(target_folder, file_name), \"wb\") as f:\n",
    "                f.write(response.content)\n",
    "            print(f\"File '{file_name}' downloaded successfully.\")\n",
    "        else:\n",
    "            print(f\"Failed to download the file from '{url}'. Status code: {response.status_code}\")\n",
    "    except Exception as e:\n",
    "        print(f\"An error occurred while downloading from '{url}': {e}\")\n",
    "\n",
    "\n",
    "# Get link elements\n",
    "wait = WebDriverWait(driver=driver,timeout=5)\n",
    "download_links_elements = wait.until(\n",
    "    EC.visibility_of_all_elements_located((By.XPATH, \"//a[contains(text(), 'Click')]\"))\n",
    ") \n",
    "\n",
    "# Get links\n",
    "download_links = [x.get_attribute(\"href\") for x in download_links_elements]\n",
    "# Shorten video length size\n",
    "download_links = download_links[:10]\n",
    "add\n",
    "# Create the target folder if it doesn't exist\n",
    "if not os.path.exists(path_to_videos):\n",
    "    os.makedirs(path_to_videos)\n",
    "\n",
    "# Create a ThreadPoolExecutor with max_workers set to the number of URLs to download\n",
    "with ThreadPoolExecutor(max_workers=len(download_links)) as executor:\n",
    "    # Submit a download task for each URL\n",
    "    iterable_target_folder = [path_to_videos] * len(download_links)\n",
    "    executor.map(download_file, download_links, iterable_target_folder)\n",
    "\n",
    "driver.close()"
   ]
  }
 ],
 "metadata": {
  "kernelspec": {
   "display_name": "base1",
   "language": "python",
   "name": "python3"
  },
  "language_info": {
   "codemirror_mode": {
    "name": "ipython",
    "version": 3
   },
   "file_extension": ".py",
   "mimetype": "text/x-python",
   "name": "python",
   "nbconvert_exporter": "python",
   "pygments_lexer": "ipython3",
   "version": "3.10.14"
  }
 },
 "nbformat": 4,
 "nbformat_minor": 2
}
