{
    "cells": [
        {
            "cell_type": "code",
            "execution_count": 1,
            "id": "ea6f14eb-b53d-40db-8bcb-1f04a04d72d6",
            "metadata": {},
            "outputs": [],
            "source": [
                "import numpy as np"
            ]
        },
        {
            "cell_type": "code",
            "execution_count": 4,
            "id": "2a6e19a3-0e0c-4407-a36e-f99086617d21",
            "metadata": {},
            "outputs": [
                {
                    "name": "stdout",
                    "output_type": "stream",
                    "text": [
                        "[1 2 3 4 5]\n",
                        "1\n"
                    ]
                }
            ],
            "source": [
                "a = np.array([1, 2, 3, 4, 5])\n",
                "print(a)\n",
                "print(a[0])"
            ]
        },
        {
            "cell_type": "code",
            "execution_count": 3,
            "id": "99e66950-31fc-4b42-be91-f2723c471117",
            "metadata": {},
            "outputs": [
                {
                    "name": "stdout",
                    "output_type": "stream",
                    "text": [
                        "[[ 1  2  3  4]\n",
                        " [ 5  6  6  8]\n",
                        " [ 9 10 11 12]]\n"
                    ]
                }
            ],
            "source": [
                "b = np.array([[1, 2, 3, 4], [5, 6, 6, 8], [9, 10, 11, 12]])\n",
                "print(b)"
            ]
        },
        {
            "cell_type": "code",
            "execution_count": 8,
            "id": "307e55d9-3b8e-4a04-b86c-72863e9f2663",
            "metadata": {},
            "outputs": [
                {
                    "name": "stdout",
                    "output_type": "stream",
                    "text": [
                        "[2.00000000e+000 6.95297528e-310]\n",
                        "[1. 1.]\n",
                        "[0. 0.]\n"
                    ]
                }
            ],
            "source": [
                "c = np.empty(2)\n",
                "print(c)\n",
                "d = np.ones(2)\n",
                "print(d)\n",
                "e = np.zeros(2)\n",
                "print(e)"
            ]
        },
        {
            "cell_type": "code",
            "execution_count": null,
            "id": "dad5af81-91c5-4205-acda-827b5db38195",
            "metadata": {},
            "outputs": [],
            "source": []
        }
    ],
    "metadata": {
        "kernelspec": {
            "display_name": "Python 3 (ipykernel)",
            "language": "python",
            "name": "python3"
        },
        "language_info": {
            "codemirror_mode": {
                "name": "ipython",
                "version": 3
            },
            "file_extension": ".py",
            "mimetype": "text/x-python",
            "name": "python",
            "nbconvert_exporter": "python",
            "pygments_lexer": "ipython3",
            "version": "3.11.5"
        }
    },
    "nbformat": 4,
    "nbformat_minor": 5
}
