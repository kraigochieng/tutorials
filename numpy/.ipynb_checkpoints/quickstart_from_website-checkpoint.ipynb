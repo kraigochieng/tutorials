{
 "cells": [
  {
   "cell_type": "code",
   "execution_count": 30,
   "id": "0348bd74-3aec-42a0-b085-055e0b670bf4",
   "metadata": {},
   "outputs": [],
   "source": [
    "import numpy as np\n",
    "from numpy import newaxis\n",
    "import sys"
   ]
  },
  {
   "cell_type": "code",
   "execution_count": 2,
   "id": "af6b614e-3113-4b99-adf6-72af75543c2b",
   "metadata": {},
   "outputs": [
    {
     "data": {
      "text/plain": [
       "array([[ 0,  1,  2,  3,  4],\n",
       "       [ 5,  6,  7,  8,  9],\n",
       "       [10, 11, 12, 13, 14]])"
      ]
     },
     "execution_count": 2,
     "metadata": {},
     "output_type": "execute_result"
    }
   ],
   "source": [
    "a = np.arange(15).reshape(3,5)\n",
    "a"
   ]
  },
  {
   "cell_type": "code",
   "execution_count": 3,
   "id": "8ac7d9eb-d71f-40cc-a334-b3d98c543be5",
   "metadata": {},
   "outputs": [
    {
     "data": {
      "text/plain": [
       "(3, 5)"
      ]
     },
     "execution_count": 3,
     "metadata": {},
     "output_type": "execute_result"
    }
   ],
   "source": [
    "a.shape"
   ]
  },
  {
   "cell_type": "code",
   "execution_count": 20,
   "id": "afe7d5a4-1b72-469f-b920-ca9652011262",
   "metadata": {},
   "outputs": [
    {
     "data": {
      "text/plain": [
       "2"
      ]
     },
     "execution_count": 20,
     "metadata": {},
     "output_type": "execute_result"
    }
   ],
   "source": [
    "a.ndim"
   ]
  },
  {
   "cell_type": "code",
   "execution_count": 22,
   "id": "a123550c-2927-4de1-9585-8698074d71da",
   "metadata": {},
   "outputs": [
    {
     "data": {
      "text/plain": [
       "'int64'"
      ]
     },
     "execution_count": 22,
     "metadata": {},
     "output_type": "execute_result"
    }
   ],
   "source": [
    "a.dtype\n",
    "a.dtype.name"
   ]
  },
  {
   "cell_type": "code",
   "execution_count": 23,
   "id": "cdef7ef9-682b-47f1-94ac-4a75945c9872",
   "metadata": {},
   "outputs": [
    {
     "data": {
      "text/plain": [
       "8"
      ]
     },
     "execution_count": 23,
     "metadata": {},
     "output_type": "execute_result"
    }
   ],
   "source": [
    "a.itemsize"
   ]
  },
  {
   "cell_type": "code",
   "execution_count": 24,
   "id": "7ac4b13b-cae1-42d3-a127-30e1d20a3922",
   "metadata": {},
   "outputs": [
    {
     "data": {
      "text/plain": [
       "15"
      ]
     },
     "execution_count": 24,
     "metadata": {},
     "output_type": "execute_result"
    }
   ],
   "source": [
    "a.size"
   ]
  },
  {
   "cell_type": "code",
   "execution_count": 26,
   "id": "f29482b8-7056-4d8e-a98d-b20e3df4a6d1",
   "metadata": {},
   "outputs": [
    {
     "data": {
      "text/plain": [
       "numpy.ndarray"
      ]
     },
     "execution_count": 26,
     "metadata": {},
     "output_type": "execute_result"
    }
   ],
   "source": [
    "type(a)"
   ]
  },
  {
   "cell_type": "code",
   "execution_count": 31,
   "id": "98a08d0c-3141-4566-b1f7-a522d2c25a98",
   "metadata": {},
   "outputs": [
    {
     "data": {
      "text/plain": [
       "array([[ 6.+0.j,  7.+0.j,  8.+0.j],\n",
       "       [ 9.+0.j, 10.+0.j, 11.+0.j]])"
      ]
     },
     "execution_count": 31,
     "metadata": {},
     "output_type": "execute_result"
    }
   ],
   "source": [
    "b = np.array([\n",
    "    (6, 7, 8),\n",
    "    (9, 10, 11)\n",
    "], dtype=complex)\n",
    "b"
   ]
  },
  {
   "cell_type": "code",
   "execution_count": 29,
   "id": "b4f2f3ae-e346-4e79-884f-9c28f8dacbf0",
   "metadata": {},
   "outputs": [
    {
     "data": {
      "text/plain": [
       "numpy.ndarray"
      ]
     },
     "execution_count": 29,
     "metadata": {},
     "output_type": "execute_result"
    }
   ],
   "source": [
    "type(b)"
   ]
  },
  {
   "cell_type": "code",
   "execution_count": 39,
   "id": "ab622745-9cc5-4db5-9291-0f4432fd4730",
   "metadata": {},
   "outputs": [
    {
     "data": {
      "text/plain": [
       "array([[0., 0., 0., 0.],\n",
       "       [0., 0., 0., 0.],\n",
       "       [0., 0., 0., 0.]])"
      ]
     },
     "execution_count": 39,
     "metadata": {},
     "output_type": "execute_result"
    }
   ],
   "source": [
    "np.zeros((3,4))"
   ]
  },
  {
   "cell_type": "code",
   "execution_count": 40,
   "id": "13347f86-09e7-402f-bb9a-b2882a408db6",
   "metadata": {},
   "outputs": [
    {
     "data": {
      "text/plain": [
       "array([[[1, 1],\n",
       "        [1, 1]],\n",
       "\n",
       "       [[1, 1],\n",
       "        [1, 1]]])"
      ]
     },
     "execution_count": 40,
     "metadata": {},
     "output_type": "execute_result"
    }
   ],
   "source": [
    "np.ones((2,2,2), dtype=np.int64)"
   ]
  },
  {
   "cell_type": "code",
   "execution_count": 42,
   "id": "02111888-f4ea-455c-b77e-295f0e383f61",
   "metadata": {},
   "outputs": [
    {
     "data": {
      "text/plain": [
       "array([[     94504731312561,                   0, 7310589477035273328,\n",
       "        8583986712755193188, 8223684391703702633,  723441698880055649],\n",
       "       [2314885530818453536, 6876556136740254835, 7070715678142132837,\n",
       "        8390328289766174575, 7217054052724404073, 6061973107615295077],\n",
       "       [2314885436484711794, 2314885530818453536, 7527520930561279520,\n",
       "        8031079711208141925, 8367816142498193696, 8458716092899026280],\n",
       "       [7310873954211555700, 6998706422631130485, 8390317583687295086,\n",
       "        7286951092438331241, 8243122710737019758,     140123311072357]])"
      ]
     },
     "execution_count": 42,
     "metadata": {},
     "output_type": "execute_result"
    }
   ],
   "source": [
    "np.empty((4,6), dtype=np.int64)"
   ]
  },
  {
   "cell_type": "code",
   "execution_count": 43,
   "id": "90054666-429e-46bc-a611-680c3c5730c4",
   "metadata": {},
   "outputs": [
    {
     "data": {
      "text/plain": [
       "array([1, 3, 5, 7, 9])"
      ]
     },
     "execution_count": 43,
     "metadata": {},
     "output_type": "execute_result"
    }
   ],
   "source": [
    "np.arange(1,10,2)"
   ]
  },
  {
   "cell_type": "code",
   "execution_count": 44,
   "id": "41486c5f-f77e-4807-8eb0-0b6a3becba7d",
   "metadata": {},
   "outputs": [
    {
     "data": {
      "text/plain": [
       "array([0.  , 0.25, 0.5 , 0.75, 1.  , 1.25, 1.5 , 1.75, 2.  , 2.25, 2.5 ,\n",
       "       2.75, 3.  , 3.25, 3.5 , 3.75, 4.  , 4.25, 4.5 , 4.75])"
      ]
     },
     "execution_count": 44,
     "metadata": {},
     "output_type": "execute_result"
    }
   ],
   "source": [
    "np.arange(0,5,0.25)"
   ]
  },
  {
   "cell_type": "code",
   "execution_count": 46,
   "id": "00b7cc14-30cd-4869-b02e-09e063bd0cd0",
   "metadata": {},
   "outputs": [
    {
     "data": {
      "text/plain": [
       "array([ 1.,  4.,  7., 10.])"
      ]
     },
     "execution_count": 46,
     "metadata": {},
     "output_type": "execute_result"
    }
   ],
   "source": [
    "np.linspace(1, 10, 4)"
   ]
  },
  {
   "cell_type": "code",
   "execution_count": 50,
   "id": "9af316cd-3a2b-45a8-a6e5-6ea90a9e6486",
   "metadata": {},
   "outputs": [
    {
     "data": {
      "text/plain": [
       "array([0.        , 0.06349206, 0.12698413, 0.19047619, 0.25396825,\n",
       "       0.31746032, 0.38095238, 0.44444444, 0.50793651, 0.57142857,\n",
       "       0.63492063, 0.6984127 , 0.76190476, 0.82539683, 0.88888889,\n",
       "       0.95238095, 1.01587302, 1.07936508, 1.14285714, 1.20634921,\n",
       "       1.26984127, 1.33333333, 1.3968254 , 1.46031746, 1.52380952,\n",
       "       1.58730159, 1.65079365, 1.71428571, 1.77777778, 1.84126984,\n",
       "       1.9047619 , 1.96825397, 2.03174603, 2.0952381 , 2.15873016,\n",
       "       2.22222222, 2.28571429, 2.34920635, 2.41269841, 2.47619048,\n",
       "       2.53968254, 2.6031746 , 2.66666667, 2.73015873, 2.79365079,\n",
       "       2.85714286, 2.92063492, 2.98412698, 3.04761905, 3.11111111,\n",
       "       3.17460317, 3.23809524, 3.3015873 , 3.36507937, 3.42857143,\n",
       "       3.49206349, 3.55555556, 3.61904762, 3.68253968, 3.74603175,\n",
       "       3.80952381, 3.87301587, 3.93650794, 4.        , 4.06349206,\n",
       "       4.12698413, 4.19047619, 4.25396825, 4.31746032, 4.38095238,\n",
       "       4.44444444, 4.50793651, 4.57142857, 4.63492063, 4.6984127 ,\n",
       "       4.76190476, 4.82539683, 4.88888889, 4.95238095, 5.01587302,\n",
       "       5.07936508, 5.14285714, 5.20634921, 5.26984127, 5.33333333,\n",
       "       5.3968254 , 5.46031746, 5.52380952, 5.58730159, 5.65079365,\n",
       "       5.71428571, 5.77777778, 5.84126984, 5.9047619 , 5.96825397,\n",
       "       6.03174603, 6.0952381 , 6.15873016, 6.22222222, 6.28571429])"
      ]
     },
     "execution_count": 50,
     "metadata": {},
     "output_type": "execute_result"
    }
   ],
   "source": [
    "x = np.linspace(0, 2 * (22/7), 100)\n",
    "x"
   ]
  },
  {
   "cell_type": "code",
   "execution_count": 52,
   "id": "529c9b35-af09-46a6-9043-bd1a43004ab5",
   "metadata": {},
   "outputs": [
    {
     "data": {
      "text/plain": [
       "array([ 0.        ,  0.06344941,  0.12664313,  0.18932649,  0.25124689,\n",
       "        0.31215479,  0.37180474,  0.42995636,  0.48637531,  0.54083421,\n",
       "        0.59311362,  0.64300284,  0.69030083,  0.73481699,  0.77637192,\n",
       "        0.81479816,  0.84994085,  0.88165837,  0.90982291,  0.93432097,\n",
       "        0.95505381,  0.9719379 ,  0.98490519,  0.99390341,  0.99889632,\n",
       "        0.99986379,  0.99680192,  0.98972305,  0.9786557 ,  0.96364449,\n",
       "        0.94474989,  0.92204806,  0.89563047,  0.8656036 ,  0.83208844,\n",
       "        0.79522006,  0.75514703,  0.71203084,  0.66604524,  0.61737556,\n",
       "        0.56621793,  0.5127785 ,  0.45727263,  0.399924  ,  0.34096372,\n",
       "        0.2806294 ,  0.21916417,  0.15681574,  0.09383535,  0.03047682,\n",
       "       -0.03300453, -0.09635287, -0.15931292, -0.22163096, -0.28305585,\n",
       "       -0.34334006, -0.40224065, -0.45952025, -0.51494804, -0.56830064,\n",
       "       -0.61936305, -0.66792951, -0.71380428, -0.7568025 , -0.79675088,\n",
       "       -0.83348846, -0.86686717, -0.8967525 , -0.92302401, -0.94557585,\n",
       "       -0.96431712, -0.9791723 , -0.99008152, -0.99700083, -0.99990233,\n",
       "       -0.99877434, -0.99362141, -0.98446429, -0.97133988, -0.95430109,\n",
       "       -0.93341657, -0.90877049, -0.88046216, -0.84860567, -0.81332939,\n",
       "       -0.77477549, -0.73309933, -0.68846886, -0.64106393, -0.5910756 ,\n",
       "       -0.53870529, -0.48416406, -0.4276717 , -0.36945588, -0.30975119,\n",
       "       -0.24879823, -0.18684265, -0.12413411, -0.06092533,  0.00252898])"
      ]
     },
     "execution_count": 52,
     "metadata": {},
     "output_type": "execute_result"
    }
   ],
   "source": [
    "f = np.sin(x)\n",
    "f"
   ]
  },
  {
   "cell_type": "code",
   "execution_count": 54,
   "id": "33bc1178-41cb-44c7-a9e1-4ab3c6931fcd",
   "metadata": {},
   "outputs": [
    {
     "data": {
      "text/plain": [
       "array([   0,    1,    2, ..., 9997, 9998, 9999])"
      ]
     },
     "execution_count": 54,
     "metadata": {},
     "output_type": "execute_result"
    }
   ],
   "source": [
    "np.arange(10000)"
   ]
  },
  {
   "cell_type": "code",
   "execution_count": 55,
   "id": "d43d8c70-606f-4a40-a6b5-9d7369c8037e",
   "metadata": {},
   "outputs": [],
   "source": [
    "# np.set_printoptions(threshold=sys.maxsize)"
   ]
  },
  {
   "cell_type": "code",
   "execution_count": 4,
   "id": "86ffd5e3-5b99-4ae3-be64-26c7c7765621",
   "metadata": {},
   "outputs": [
    {
     "data": {
      "text/plain": [
       "array([   0,    1,    2, ..., 9997, 9998, 9999])"
      ]
     },
     "execution_count": 4,
     "metadata": {},
     "output_type": "execute_result"
    }
   ],
   "source": [
    "np.arange(10000)"
   ]
  },
  {
   "cell_type": "code",
   "execution_count": 64,
   "id": "ddf62562-1332-4dfb-98ce-a39601639c08",
   "metadata": {},
   "outputs": [],
   "source": [
    "# np.set_printoptions(threshold=None)"
   ]
  },
  {
   "cell_type": "code",
   "execution_count": 5,
   "id": "ad8b2731-3433-4652-8502-db40daed9f86",
   "metadata": {},
   "outputs": [
    {
     "data": {
      "text/plain": [
       "array([   0,    1,    2, ..., 9997, 9998, 9999])"
      ]
     },
     "execution_count": 5,
     "metadata": {},
     "output_type": "execute_result"
    }
   ],
   "source": [
    "np.arange(10000)"
   ]
  },
  {
   "cell_type": "code",
   "execution_count": 6,
   "id": "2d8dc945-4c67-4d2b-a0f0-9150066b1029",
   "metadata": {},
   "outputs": [
    {
     "data": {
      "text/plain": [
       "array([20, 29, 38, 47])"
      ]
     },
     "execution_count": 6,
     "metadata": {},
     "output_type": "execute_result"
    }
   ],
   "source": [
    "a = np.array([20, 30, 40, 50])\n",
    "b = np.arange(4)\n",
    "c = a - b\n",
    "c"
   ]
  },
  {
   "cell_type": "code",
   "execution_count": 7,
   "id": "2a23418b-112a-4903-b6be-8505aa09382b",
   "metadata": {},
   "outputs": [
    {
     "data": {
      "text/plain": [
       "array([0, 1, 4, 9])"
      ]
     },
     "execution_count": 7,
     "metadata": {},
     "output_type": "execute_result"
    }
   ],
   "source": [
    "b**2"
   ]
  },
  {
   "cell_type": "code",
   "execution_count": 8,
   "id": "16fb2dc9-fcbf-430c-9b6b-b52763e43cd3",
   "metadata": {},
   "outputs": [
    {
     "data": {
      "text/plain": [
       "array([ 9.12945251, -9.88031624,  7.4511316 , -2.62374854])"
      ]
     },
     "execution_count": 8,
     "metadata": {},
     "output_type": "execute_result"
    }
   ],
   "source": [
    "10 * np.sin(a)"
   ]
  },
  {
   "cell_type": "code",
   "execution_count": 9,
   "id": "12758f66-9f5a-4704-9324-48a87998baff",
   "metadata": {},
   "outputs": [
    {
     "data": {
      "text/plain": [
       "array([ True,  True,  True,  True])"
      ]
     },
     "execution_count": 9,
     "metadata": {},
     "output_type": "execute_result"
    }
   ],
   "source": [
    "b < 5"
   ]
  },
  {
   "cell_type": "code",
   "execution_count": 30,
   "id": "19d2c3f9-c859-43dd-86b5-1e162d3b58bd",
   "metadata": {},
   "outputs": [],
   "source": [
    "A = np.array([[1, 1],\n",
    "              [0, 1]])\n",
    "B = np.array([[2, 0],\n",
    "              [3, 4]])"
   ]
  },
  {
   "cell_type": "code",
   "execution_count": 11,
   "id": "ce395497-4f0d-4680-a5a6-48771f9bf47e",
   "metadata": {},
   "outputs": [
    {
     "data": {
      "text/plain": [
       "array([[2, 0],\n",
       "       [0, 4]])"
      ]
     },
     "execution_count": 11,
     "metadata": {},
     "output_type": "execute_result"
    }
   ],
   "source": [
    "A * B"
   ]
  },
  {
   "cell_type": "code",
   "execution_count": 12,
   "id": "1e15bd8d-db7b-4d5e-b0de-8263a0bd91ad",
   "metadata": {},
   "outputs": [
    {
     "data": {
      "text/plain": [
       "array([[5, 4],\n",
       "       [3, 4]])"
      ]
     },
     "execution_count": 12,
     "metadata": {},
     "output_type": "execute_result"
    }
   ],
   "source": [
    "A @ B"
   ]
  },
  {
   "cell_type": "code",
   "execution_count": 13,
   "id": "856adfec-038c-4d98-bc25-6635fdb1fa0b",
   "metadata": {},
   "outputs": [
    {
     "data": {
      "text/plain": [
       "array([[5, 4],\n",
       "       [3, 4]])"
      ]
     },
     "execution_count": 13,
     "metadata": {},
     "output_type": "execute_result"
    }
   ],
   "source": [
    "A.dot(B)"
   ]
  },
  {
   "cell_type": "code",
   "execution_count": 31,
   "id": "566c7e5b-ac3f-42db-a5f1-b703c5387632",
   "metadata": {},
   "outputs": [
    {
     "data": {
      "text/plain": [
       "array([[1, 1],\n",
       "       [0, 1]])"
      ]
     },
     "execution_count": 31,
     "metadata": {},
     "output_type": "execute_result"
    }
   ],
   "source": [
    "A"
   ]
  },
  {
   "cell_type": "code",
   "execution_count": 19,
   "id": "622ec095-9886-4d7a-9554-b24739d5e917",
   "metadata": {},
   "outputs": [
    {
     "data": {
      "text/plain": [
       "array([[5.11821625, 9.50463696, 1.44159613, 9.48649447, 3.11831452,\n",
       "        4.23326449],\n",
       "       [8.27702594, 4.09199136, 5.49593688, 0.27559113, 7.53513109,\n",
       "        5.38143313],\n",
       "       [3.29731716, 7.88428703, 3.03194829, 4.53497889, 1.34041697,\n",
       "        4.03112986],\n",
       "       [2.03455241, 2.6231334 , 7.50364673, 2.80408758, 4.85190974,\n",
       "        9.807372  ]])"
      ]
     },
     "execution_count": 19,
     "metadata": {},
     "output_type": "execute_result"
    }
   ],
   "source": [
    "rg = np.random.default_rng(1)\n",
    "b = rg.random((4,6))\n",
    "b *= 10\n",
    "b"
   ]
  },
  {
   "cell_type": "code",
   "execution_count": 40,
   "id": "d69b25da-803d-4a72-b26f-96ecc5523741",
   "metadata": {},
   "outputs": [
    {
     "data": {
      "text/plain": [
       "array([[0.77668311, 0.6130033 , 0.9172977 ],\n",
       "       [0.03959288, 0.52858926, 0.45933588],\n",
       "       [0.06234958, 0.64132817, 0.85263284]])"
      ]
     },
     "execution_count": 40,
     "metadata": {},
     "output_type": "execute_result"
    }
   ],
   "source": [
    "a = rg.random((3,3))\n",
    "a"
   ]
  },
  {
   "cell_type": "code",
   "execution_count": 41,
   "id": "9ef98880-41df-4a9d-8532-5080a2f6e3e5",
   "metadata": {},
   "outputs": [
    {
     "data": {
      "text/plain": [
       "4.890812729765777"
      ]
     },
     "execution_count": 41,
     "metadata": {},
     "output_type": "execute_result"
    }
   ],
   "source": [
    "a.sum()"
   ]
  },
  {
   "cell_type": "code",
   "execution_count": 42,
   "id": "417efa4d-8c97-4b6b-9780-3f00cb51ea56",
   "metadata": {},
   "outputs": [
    {
     "data": {
      "text/plain": [
       "0.03959287666420286"
      ]
     },
     "execution_count": 42,
     "metadata": {},
     "output_type": "execute_result"
    }
   ],
   "source": [
    "a.min()"
   ]
  },
  {
   "cell_type": "code",
   "execution_count": 43,
   "id": "eebb5b8f-aa71-46ae-9657-10b604d534b1",
   "metadata": {},
   "outputs": [
    {
     "data": {
      "text/plain": [
       "0.9172977047909027"
      ]
     },
     "execution_count": 43,
     "metadata": {},
     "output_type": "execute_result"
    }
   ],
   "source": [
    "a.max()"
   ]
  },
  {
   "cell_type": "code",
   "execution_count": 45,
   "id": "4fead52a-ab67-45df-b7ba-70f56c956954",
   "metadata": {},
   "outputs": [
    {
     "data": {
      "text/plain": [
       "array([[ 0,  1,  2,  3],\n",
       "       [ 4,  5,  6,  7],\n",
       "       [ 8,  9, 10, 11]])"
      ]
     },
     "execution_count": 45,
     "metadata": {},
     "output_type": "execute_result"
    }
   ],
   "source": [
    "b = np.arange(12).reshape(3,4)\n",
    "b"
   ]
  },
  {
   "cell_type": "code",
   "execution_count": 46,
   "id": "0a57d73e-df4d-4ccf-89b6-e0848c50cbfb",
   "metadata": {},
   "outputs": [
    {
     "data": {
      "text/plain": [
       "array([12, 15, 18, 21])"
      ]
     },
     "execution_count": 46,
     "metadata": {},
     "output_type": "execute_result"
    }
   ],
   "source": [
    "b.sum(axis=0)"
   ]
  },
  {
   "cell_type": "code",
   "execution_count": 47,
   "id": "f8ecdce4-57a9-4c9a-a41b-786c39d5a518",
   "metadata": {},
   "outputs": [
    {
     "data": {
      "text/plain": [
       "array([0, 4, 8])"
      ]
     },
     "execution_count": 47,
     "metadata": {},
     "output_type": "execute_result"
    }
   ],
   "source": [
    "b.min(axis=1)"
   ]
  },
  {
   "cell_type": "code",
   "execution_count": 48,
   "id": "ec35a5d5-2021-4d02-bac4-e76cf9f5e3bb",
   "metadata": {},
   "outputs": [
    {
     "data": {
      "text/plain": [
       "array([[ 0,  1,  3,  6],\n",
       "       [ 4,  9, 15, 22],\n",
       "       [ 8, 17, 27, 38]])"
      ]
     },
     "execution_count": 48,
     "metadata": {},
     "output_type": "execute_result"
    }
   ],
   "source": [
    "b.cumsum(axis=1)"
   ]
  },
  {
   "cell_type": "code",
   "execution_count": 3,
   "id": "31fc2e20-eb04-4d45-81d5-fd7e2ca39a11",
   "metadata": {},
   "outputs": [
    {
     "data": {
      "text/plain": [
       "array([  0,   1,   8,  27,  64, 125, 216, 343, 512, 729])"
      ]
     },
     "execution_count": 3,
     "metadata": {},
     "output_type": "execute_result"
    }
   ],
   "source": [
    "a = np.arange(10)**3\n",
    "a"
   ]
  },
  {
   "cell_type": "code",
   "execution_count": 4,
   "id": "8b312eb4-1419-4cbb-b91e-dd544c07b44b",
   "metadata": {},
   "outputs": [
    {
     "data": {
      "text/plain": [
       "8"
      ]
     },
     "execution_count": 4,
     "metadata": {},
     "output_type": "execute_result"
    }
   ],
   "source": [
    "a[2]"
   ]
  },
  {
   "cell_type": "code",
   "execution_count": 6,
   "id": "f3c62e7d-a9d9-4019-84e5-01d6fe4a1bfa",
   "metadata": {},
   "outputs": [
    {
     "data": {
      "text/plain": [
       "array([ 8, 27, 64])"
      ]
     },
     "execution_count": 6,
     "metadata": {},
     "output_type": "execute_result"
    }
   ],
   "source": [
    "a[2:5]"
   ]
  },
  {
   "cell_type": "code",
   "execution_count": 9,
   "id": "303aca83-81ec-459d-9ae8-2c251dfc4816",
   "metadata": {},
   "outputs": [
    {
     "data": {
      "text/plain": [
       "array([100, 100, 100, 100, 100, 100, 216, 343, 512, 729])"
      ]
     },
     "execution_count": 9,
     "metadata": {},
     "output_type": "execute_result"
    }
   ],
   "source": [
    "a[0:6] = 100\n",
    "a"
   ]
  },
  {
   "cell_type": "code",
   "execution_count": 11,
   "id": "302caaff-4ec8-4319-ad8e-a121cdd48a93",
   "metadata": {},
   "outputs": [
    {
     "data": {
      "text/plain": [
       "array([200, 100, 200, 100, 200, 100, 216, 343, 512, 729])"
      ]
     },
     "execution_count": 11,
     "metadata": {},
     "output_type": "execute_result"
    }
   ],
   "source": [
    "a[0:6:2] = 200\n",
    "a"
   ]
  },
  {
   "cell_type": "code",
   "execution_count": 12,
   "id": "dab1de26-f5c7-4cb2-ad01-3b4711210ebb",
   "metadata": {},
   "outputs": [
    {
     "data": {
      "text/plain": [
       "array([729, 512, 343, 216, 100, 200, 100, 200, 100, 200])"
      ]
     },
     "execution_count": 12,
     "metadata": {},
     "output_type": "execute_result"
    }
   ],
   "source": [
    "a[::-1]"
   ]
  },
  {
   "cell_type": "code",
   "execution_count": 14,
   "id": "2bc2c80b-4885-44e6-adf0-10bec6ce3627",
   "metadata": {},
   "outputs": [
    {
     "data": {
      "text/plain": [
       "array([[ 0,  1,  2,  3,  4],\n",
       "       [10, 11, 12, 13, 14],\n",
       "       [20, 21, 22, 23, 24],\n",
       "       [30, 31, 32, 33, 34],\n",
       "       [40, 41, 42, 43, 44]])"
      ]
     },
     "execution_count": 14,
     "metadata": {},
     "output_type": "execute_result"
    }
   ],
   "source": [
    "def f(x, y):\n",
    "    return 10 * x + y\n",
    "\n",
    "b = np.fromfunction(f, (5,5), dtype=int)\n",
    "b"
   ]
  },
  {
   "cell_type": "code",
   "execution_count": 15,
   "id": "777ad4be-6c3f-49d3-b942-903ff6969153",
   "metadata": {},
   "outputs": [],
   "source": [
    "c = np.array([[[  0,  1,  2],  # a 3D array (two stacked 2D arrays)\n",
    "               [ 10, 12, 13]],\n",
    "              [[100, 101, 102],\n",
    "               [110, 112, 113]]])"
   ]
  },
  {
   "cell_type": "code",
   "execution_count": 16,
   "id": "c7c98a3c-e615-4995-b593-3f33685fab29",
   "metadata": {},
   "outputs": [
    {
     "data": {
      "text/plain": [
       "array([[100, 101, 102],\n",
       "       [110, 112, 113]])"
      ]
     },
     "execution_count": 16,
     "metadata": {},
     "output_type": "execute_result"
    }
   ],
   "source": [
    "c[1, ...]"
   ]
  },
  {
   "cell_type": "code",
   "execution_count": 17,
   "id": "adf6b42c-e51a-4770-9c80-7b367d1f6854",
   "metadata": {},
   "outputs": [
    {
     "data": {
      "text/plain": [
       "array([[100, 101, 102],\n",
       "       [110, 112, 113]])"
      ]
     },
     "execution_count": 17,
     "metadata": {},
     "output_type": "execute_result"
    }
   ],
   "source": [
    "c[1, :, :]"
   ]
  },
  {
   "cell_type": "code",
   "execution_count": 18,
   "id": "47d89996-6d1c-41f4-8eac-253527d5a40e",
   "metadata": {},
   "outputs": [
    {
     "name": "stdout",
     "output_type": "stream",
     "text": [
      "0\n",
      "1\n",
      "2\n",
      "10\n",
      "12\n",
      "13\n",
      "100\n",
      "101\n",
      "102\n",
      "110\n",
      "112\n",
      "113\n"
     ]
    }
   ],
   "source": [
    "for element in c.flat:\n",
    "    print(element)"
   ]
  },
  {
   "cell_type": "code",
   "execution_count": 21,
   "id": "fe38c81a-ae90-40c3-8f25-a02b1b4cfa2f",
   "metadata": {},
   "outputs": [
    {
     "data": {
      "text/plain": [
       "(3, 4)"
      ]
     },
     "execution_count": 21,
     "metadata": {},
     "output_type": "execute_result"
    }
   ],
   "source": [
    "a = np.floor(10 * rg.random((3,4)))\n",
    "a.shape"
   ]
  },
  {
   "cell_type": "code",
   "execution_count": 23,
   "id": "24e0747f-72bc-4373-a2a4-22fc20a1b647",
   "metadata": {},
   "outputs": [
    {
     "data": {
      "text/plain": [
       "array([[0., 5., 4., 0.],\n",
       "       [6., 8., 5., 2.],\n",
       "       [8., 5., 5., 7.]])"
      ]
     },
     "execution_count": 23,
     "metadata": {},
     "output_type": "execute_result"
    }
   ],
   "source": [
    "a"
   ]
  },
  {
   "cell_type": "code",
   "execution_count": 24,
   "id": "db25a4c8-b457-47b7-b6b4-51557afb40d4",
   "metadata": {},
   "outputs": [
    {
     "data": {
      "text/plain": [
       "array([0., 5., 4., 0., 6., 8., 5., 2., 8., 5., 5., 7.])"
      ]
     },
     "execution_count": 24,
     "metadata": {},
     "output_type": "execute_result"
    }
   ],
   "source": [
    "a.ravel()"
   ]
  },
  {
   "cell_type": "code",
   "execution_count": 27,
   "id": "b11529f6-ef2b-4f58-a3f1-49980e9a87d0",
   "metadata": {},
   "outputs": [
    {
     "data": {
      "text/plain": [
       "array([[0., 5.],\n",
       "       [4., 0.],\n",
       "       [6., 8.],\n",
       "       [5., 2.],\n",
       "       [8., 5.],\n",
       "       [5., 7.]])"
      ]
     },
     "execution_count": 27,
     "metadata": {},
     "output_type": "execute_result"
    }
   ],
   "source": [
    "a.reshape(6,2)"
   ]
  },
  {
   "cell_type": "code",
   "execution_count": 25,
   "id": "8c201282-2cc3-4b75-bd27-36060eaaef0c",
   "metadata": {},
   "outputs": [
    {
     "data": {
      "text/plain": [
       "array([[0., 6., 8.],\n",
       "       [5., 8., 5.],\n",
       "       [4., 5., 5.],\n",
       "       [0., 2., 7.]])"
      ]
     },
     "execution_count": 25,
     "metadata": {},
     "output_type": "execute_result"
    }
   ],
   "source": [
    "a.T"
   ]
  },
  {
   "cell_type": "code",
   "execution_count": 26,
   "id": "a67265e1-16b1-4468-96ac-e486a03f2354",
   "metadata": {},
   "outputs": [
    {
     "data": {
      "text/plain": [
       "(4, 3)"
      ]
     },
     "execution_count": 26,
     "metadata": {},
     "output_type": "execute_result"
    }
   ],
   "source": [
    "a.T.shape"
   ]
  },
  {
   "cell_type": "code",
   "execution_count": 29,
   "id": "01e6ab0b-9ad4-4642-9a77-675162216ff3",
   "metadata": {},
   "outputs": [
    {
     "data": {
      "text/plain": [
       "array([[0., 5., 4.],\n",
       "       [0., 6., 8.],\n",
       "       [5., 2., 8.],\n",
       "       [5., 5., 7.]])"
      ]
     },
     "execution_count": 29,
     "metadata": {},
     "output_type": "execute_result"
    }
   ],
   "source": [
    "a.reshape(4, -1)"
   ]
  },
  {
   "cell_type": "code",
   "execution_count": 31,
   "id": "1574f8d3-a31d-41f4-831b-5529c85d5059",
   "metadata": {},
   "outputs": [
    {
     "data": {
      "text/plain": [
       "array([[1., 8.],\n",
       "       [6., 7.]])"
      ]
     },
     "execution_count": 31,
     "metadata": {},
     "output_type": "execute_result"
    }
   ],
   "source": [
    "a = np.floor(10 * rg.random((2,2)))\n",
    "a"
   ]
  },
  {
   "cell_type": "code",
   "execution_count": 32,
   "id": "de6114df-9f68-400a-bdf6-cd85264c79dd",
   "metadata": {},
   "outputs": [
    {
     "data": {
      "text/plain": [
       "array([[1., 8.],\n",
       "       [1., 0.]])"
      ]
     },
     "execution_count": 32,
     "metadata": {},
     "output_type": "execute_result"
    }
   ],
   "source": [
    "b = np.floor(10 * rg.random((2,2)))\n",
    "b"
   ]
  },
  {
   "cell_type": "code",
   "execution_count": 33,
   "id": "a9831ce5-ee39-44db-8cc8-ac63375f6f8b",
   "metadata": {},
   "outputs": [
    {
     "data": {
      "text/plain": [
       "array([[1., 8.],\n",
       "       [6., 7.],\n",
       "       [1., 8.],\n",
       "       [1., 0.]])"
      ]
     },
     "execution_count": 33,
     "metadata": {},
     "output_type": "execute_result"
    }
   ],
   "source": [
    "np.vstack((a,b))"
   ]
  },
  {
   "cell_type": "code",
   "execution_count": 34,
   "id": "af481b8f-5bf6-4d76-9909-ba6a9dac7744",
   "metadata": {},
   "outputs": [
    {
     "data": {
      "text/plain": [
       "array([[1., 8., 1., 8.],\n",
       "       [6., 7., 1., 0.]])"
      ]
     },
     "execution_count": 34,
     "metadata": {},
     "output_type": "execute_result"
    }
   ],
   "source": [
    "np.hstack((a,b))"
   ]
  },
  {
   "cell_type": "code",
   "execution_count": 37,
   "id": "181ac490-e287-404c-9a3b-bfe40ef80e59",
   "metadata": {},
   "outputs": [],
   "source": [
    "a = np.array([1,2])\n",
    "b = np.array([3,4])"
   ]
  },
  {
   "cell_type": "code",
   "execution_count": 36,
   "id": "24028046-5f15-4d4b-b834-80fffda4c0be",
   "metadata": {},
   "outputs": [
    {
     "data": {
      "text/plain": [
       "array([[1, 3],\n",
       "       [2, 4]])"
      ]
     },
     "execution_count": 36,
     "metadata": {},
     "output_type": "execute_result"
    }
   ],
   "source": [
    "np.column_stack((a,b))"
   ]
  },
  {
   "cell_type": "code",
   "execution_count": 38,
   "id": "c7f6f65b-0860-4c0f-ba85-273e744f9ad2",
   "metadata": {},
   "outputs": [
    {
     "data": {
      "text/plain": [
       "array([1, 2, 3, 4])"
      ]
     },
     "execution_count": 38,
     "metadata": {},
     "output_type": "execute_result"
    }
   ],
   "source": [
    "np.hstack((a,b))"
   ]
  },
  {
   "cell_type": "code",
   "execution_count": 39,
   "id": "1240e0a4-eb55-496c-bb5b-ad8dba318bd8",
   "metadata": {},
   "outputs": [
    {
     "data": {
      "text/plain": [
       "array([[1],\n",
       "       [2]])"
      ]
     },
     "execution_count": 39,
     "metadata": {},
     "output_type": "execute_result"
    }
   ],
   "source": [
    "a[:, newaxis]"
   ]
  },
  {
   "cell_type": "code",
   "execution_count": 40,
   "id": "224941ab-3221-487d-8442-3df6b8bfed73",
   "metadata": {},
   "outputs": [
    {
     "data": {
      "text/plain": [
       "array([[1, 3],\n",
       "       [2, 4]])"
      ]
     },
     "execution_count": 40,
     "metadata": {},
     "output_type": "execute_result"
    }
   ],
   "source": [
    "np.column_stack((a[:, newaxis], b[:, newaxis]))"
   ]
  },
  {
   "cell_type": "code",
   "execution_count": 41,
   "id": "b8de154c-1afd-4275-b644-559a8b3cbac9",
   "metadata": {},
   "outputs": [
    {
     "data": {
      "text/plain": [
       "array([ 1,  2,  3,  4,  9, 10])"
      ]
     },
     "execution_count": 41,
     "metadata": {},
     "output_type": "execute_result"
    }
   ],
   "source": [
    "np.r_[1:5,9,10]"
   ]
  },
  {
   "cell_type": "code",
   "execution_count": 43,
   "id": "95e82a60-3cc0-4b9c-934f-63a81ccd6752",
   "metadata": {},
   "outputs": [
    {
     "data": {
      "text/plain": [
       "array([[8., 8., 8., 4., 2., 0., 6., 7., 8., 2., 2., 6.],\n",
       "       [8., 9., 1., 4., 8., 4., 5., 0., 6., 9., 8., 8.]])"
      ]
     },
     "execution_count": 43,
     "metadata": {},
     "output_type": "execute_result"
    }
   ],
   "source": [
    "a = np.floor(10 * rg.random((2,12)))\n",
    "a"
   ]
  },
  {
   "cell_type": "code",
   "execution_count": 44,
   "id": "4516a06e-cac3-4014-a1db-10ddf7a321a4",
   "metadata": {},
   "outputs": [
    {
     "data": {
      "text/plain": [
       "[array([[8., 8., 8., 4.],\n",
       "        [8., 9., 1., 4.]]),\n",
       " array([[2., 0., 6., 7.],\n",
       "        [8., 4., 5., 0.]]),\n",
       " array([[8., 2., 2., 6.],\n",
       "        [6., 9., 8., 8.]])]"
      ]
     },
     "execution_count": 44,
     "metadata": {},
     "output_type": "execute_result"
    }
   ],
   "source": [
    "np.hsplit(a,3)"
   ]
  },
  {
   "cell_type": "code",
   "execution_count": 47,
   "id": "e9d2fdbc-d60a-4c78-afe0-a7868177643d",
   "metadata": {},
   "outputs": [
    {
     "data": {
      "text/plain": [
       "[array([[8., 8., 8.],\n",
       "        [8., 9., 1.]]),\n",
       " array([[4., 2.],\n",
       "        [4., 8.]]),\n",
       " array([[0., 6., 7., 8., 2., 2., 6.],\n",
       "        [4., 5., 0., 6., 9., 8., 8.]])]"
      ]
     },
     "execution_count": 47,
     "metadata": {},
     "output_type": "execute_result"
    }
   ],
   "source": [
    "np.hsplit(a, (3,5))"
   ]
  },
  {
   "cell_type": "code",
   "execution_count": null,
   "id": "eeeb1171-eca4-479c-aafc-ed849b29b97f",
   "metadata": {},
   "outputs": [],
   "source": []
  }
 ],
 "metadata": {
  "kernelspec": {
   "display_name": "Python 3 (ipykernel)",
   "language": "python",
   "name": "python3"
  },
  "language_info": {
   "codemirror_mode": {
    "name": "ipython",
    "version": 3
   },
   "file_extension": ".py",
   "mimetype": "text/x-python",
   "name": "python",
   "nbconvert_exporter": "python",
   "pygments_lexer": "ipython3",
   "version": "3.11.5"
  }
 },
 "nbformat": 4,
 "nbformat_minor": 5
}
